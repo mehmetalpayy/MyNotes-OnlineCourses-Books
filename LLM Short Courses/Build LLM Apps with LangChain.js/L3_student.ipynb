{
 "cells": [
  {
   "cell_type": "markdown",
   "id": "94712c4b-5f3f-4d93-a9f4-d33620946c99",
   "metadata": {},
   "source": [
    "# Lesson 3: Vectorstores and embeddings"
   ]
  },
  {
   "cell_type": "markdown",
   "id": "00329cd1-0de7-4b69-b474-d9d315d93f6a",
   "metadata": {},
   "source": [
    "# Vectorstore ingestion"
   ]
  },
  {
   "cell_type": "code",
   "execution_count": 1,
   "id": "634988ed-0a57-49bc-9261-dc19fe66529b",
   "metadata": {
    "height": 30
   },
   "outputs": [
    {
     "data": {
      "text/plain": [
       "[Module: null prototype] { default: {} }"
      ]
     },
     "execution_count": 1,
     "metadata": {},
     "output_type": "execute_result"
    }
   ],
   "source": [
    "import \"dotenv/config\";"
   ]
  },
  {
   "cell_type": "code",
   "execution_count": 2,
   "id": "b997a07f-bfb0-407b-8959-fc0c467bd30f",
   "metadata": {
    "height": 115
   },
   "outputs": [
    {
     "data": {
      "text/plain": [
       "[\n",
       "   \u001b[33m-0.010372737\u001b[39m,  \u001b[33m0.0023619137\u001b[39m,  \u001b[33m-0.000738098\u001b[39m,  \u001b[33m-0.010897608\u001b[39m,   \u001b[33m-0.011474964\u001b[39m,\n",
       "    \u001b[33m0.022949928\u001b[39m,  \u001b[33m-0.014656986\u001b[39m,  \u001b[33m0.0017665146\u001b[39m,   \u001b[33m-0.01755689\u001b[39m,    \u001b[33m-0.01927584\u001b[39m,\n",
       "    \u001b[33m0.005156845\u001b[39m,    \u001b[33m0.03419526\u001b[39m,  \u001b[33m-0.012183538\u001b[39m,  \u001b[33m0.0019223352\u001b[39m,    \u001b[33m0.004691023\u001b[39m,\n",
       "    \u001b[33m0.013141425\u001b[39m,   \u001b[33m0.024642633\u001b[39m,  \u001b[33m0.0017369906\u001b[39m,   \u001b[33m0.004533562\u001b[39m,   \u001b[33m-0.006232828\u001b[39m,\n",
       "   \u001b[33m-0.005114199\u001b[39m, \u001b[33m-0.0006815105\u001b[39m,  \u001b[33m-0.008187967\u001b[39m,    \u001b[33m0.01393529\u001b[39m,   \u001b[33m-0.008916224\u001b[39m,\n",
       "  \u001b[33m-0.0040480574\u001b[39m, \u001b[33m-0.0007487594\u001b[39m,  \u001b[33m-0.019617004\u001b[39m,  \u001b[33m0.0040316554\u001b[39m,  \u001b[33m-0.0017140276\u001b[39m,\n",
       "    \u001b[33m0.016061014\u001b[39m,  \u001b[33m-0.021873945\u001b[39m, \u001b[33m-0.0007725426\u001b[39m,  \u001b[33m-0.022254474\u001b[39m,    \u001b[33m0.006242669\u001b[39m,\n",
       "    \u001b[33m0.007033254\u001b[39m,  \u001b[33m-0.011205968\u001b[39m,  \u001b[33m-0.013416981\u001b[39m,   \u001b[33m0.028815346\u001b[39m,   \u001b[33m-0.023619136\u001b[39m,\n",
       "    \u001b[33m0.006875793\u001b[39m,   \u001b[33m0.017517526\u001b[39m,   \u001b[33m0.017307578\u001b[39m, \u001b[33m-0.0059310277\u001b[39m,  \u001b[33m-0.0038676336\u001b[39m,\n",
       "   \u001b[33m-0.014368308\u001b[39m, \u001b[33m-0.0017369906\u001b[39m, \u001b[33m-0.0059769535\u001b[39m,   \u001b[33m-0.00790585\u001b[39m,    \u001b[33m0.010425224\u001b[39m,\n",
       "     \u001b[33m0.03275187\u001b[39m, \u001b[33m-0.0008668551\u001b[39m,   \u001b[33m-0.02402591\u001b[39m, \u001b[33m-0.0033854095\u001b[39m, \u001b[33m-0.00083446084\u001b[39m,\n",
       "    \u001b[33m0.002598105\u001b[39m,  \u001b[33m-0.022451302\u001b[39m,   \u001b[33m0.025141258\u001b[39m,   \u001b[33m0.019761344\u001b[39m,    \u001b[33m0.010805755\u001b[39m,\n",
       "   \u001b[33m-0.011711155\u001b[39m, \u001b[33m-0.0025505386\u001b[39m,  \u001b[33m0.0024373636\u001b[39m, \u001b[33m-0.0073088105\u001b[39m,  \u001b[33m-0.0013006927\u001b[39m,\n",
       "   \u001b[33m-0.020089388\u001b[39m,  \u001b[33m-0.016441543\u001b[39m, \u001b[33m-0.0035133467\u001b[39m,    \u001b[33m0.01197359\u001b[39m,     \u001b[33m0.01679583\u001b[39m,\n",
       "    \u001b[33m0.028080529\u001b[39m,     \u001b[33m0.0176225\u001b[39m, \u001b[33m-0.0092311455\u001b[39m,  \u001b[33m-0.014814448\u001b[39m,  \u001b[33m-0.0006118012\u001b[39m,\n",
       "    \u001b[33m0.008155163\u001b[39m,  \u001b[33m-0.020653622\u001b[39m,   \u001b[33m0.014748839\u001b[39m,    \u001b[33m0.00964448\u001b[39m,  \u001b[33m-0.0131807905\u001b[39m,\n",
       "      \u001b[33m0.0182261\u001b[39m,  \u001b[33m-0.039575174\u001b[39m, \u001b[33m0.00016801982\u001b[39m,   \u001b[33m0.024708241\u001b[39m,     \u001b[33m0.00647558\u001b[39m,\n",
       "  \u001b[33m-0.0050584315\u001b[39m,   \u001b[33m0.009250828\u001b[39m,   \u001b[33m0.030337468\u001b[39m,   \u001b[33m-0.02567925\u001b[39m,   \u001b[33m-0.010563003\u001b[39m,\n",
       "  \u001b[33m-0.0022142942\u001b[39m,   \u001b[33m0.017333822\u001b[39m,   \u001b[33m0.001521302\u001b[39m,   \u001b[33m0.023842206\u001b[39m,   \u001b[33m-0.020286214\u001b[39m,\n",
       "    \u001b[33m0.031360965\u001b[39m,  \u001b[33m-0.009933159\u001b[39m,   \u001b[33m0.032253243\u001b[39m, \u001b[33m-0.0015032596\u001b[39m,    \u001b[33m-0.02672899\u001b[39m,\n",
       "  ... 1436 more items\n",
       "]"
      ]
     },
     "execution_count": 2,
     "metadata": {},
     "output_type": "execute_result"
    }
   ],
   "source": [
    "import { OpenAIEmbeddings } from \"@langchain/openai\";\n",
    "\n",
    "const embeddings = new OpenAIEmbeddings();\n",
    "\n",
    "await embeddings.embedQuery(\"This is some sample text\");"
   ]
  },
  {
   "cell_type": "code",
   "execution_count": 3,
   "id": "cd470c94-5bec-4efe-8395-416b0a408f8b",
   "metadata": {
    "height": 166
   },
   "outputs": [],
   "source": [
    "import { similarity } from \"ml-distance\";\n",
    "\n",
    "const vector1 = await embeddings.embedQuery(\n",
    "    \"What are vectors useful for in machine learning?\"\n",
    ");\n",
    "const unrelatedVector = await embeddings.embedQuery(\n",
    "    \"A group of parrots is called a pandemonium.\"\n",
    ");"
   ]
  },
  {
   "cell_type": "code",
   "execution_count": 4,
   "id": "4476713f-5285-4d2f-9126-d30ee9825090",
   "metadata": {
    "height": 30
   },
   "outputs": [
    {
     "data": {
      "text/plain": [
       "\u001b[33m0.6957264527346025\u001b[39m"
      ]
     },
     "execution_count": 4,
     "metadata": {},
     "output_type": "execute_result"
    }
   ],
   "source": [
    "similarity.cosine(vector1, unrelatedVector);"
   ]
  },
  {
   "cell_type": "code",
   "execution_count": 5,
   "id": "17ff1478-261f-4f6d-ae0e-5d9d90df086d",
   "metadata": {
    "height": 115
   },
   "outputs": [
    {
     "data": {
      "text/plain": [
       "\u001b[33m0.8588144744020122\u001b[39m"
      ]
     },
     "execution_count": 5,
     "metadata": {},
     "output_type": "execute_result"
    }
   ],
   "source": [
    "const similarVector = await embeddings.embedQuery(\n",
    "    \"Vectors are representations of information.\"\n",
    ");\n",
    "\n",
    "similarity.cosine(vector1, similarVector);"
   ]
  },
  {
   "cell_type": "code",
   "execution_count": 6,
   "id": "4f3366a1-4f80-4d4f-b49b-d7223b143d97",
   "metadata": {
    "height": 319
   },
   "outputs": [],
   "source": [
    "// Peer dependency\n",
    "import * as parse from \"pdf-parse\";\n",
    "import { PDFLoader } from \"langchain/document_loaders/fs/pdf\";\n",
    "import { \n",
    "    RecursiveCharacterTextSplitter\n",
    "} from \"langchain/text_splitter\";\n",
    "\n",
    "const loader = new PDFLoader(\"./data/MachineLearning-Lecture01.pdf\");\n",
    "\n",
    "const rawCS229Docs = await loader.load();\n",
    "\n",
    "const splitter = new RecursiveCharacterTextSplitter({\n",
    "  chunkSize: 128,\n",
    "  chunkOverlap: 0,\n",
    "});\n",
    "\n",
    "const splitDocs = await splitter.splitDocuments(rawCS229Docs);"
   ]
  },
  {
   "cell_type": "code",
   "execution_count": 7,
   "id": "c2581cfc-aec6-4600-860c-1e100d42a382",
   "metadata": {
    "height": 81
   },
   "outputs": [],
   "source": [
    "import { MemoryVectorStore } from \"langchain/vectorstores/memory\";\n",
    "\n",
    "const vectorstore = new MemoryVectorStore(embeddings);"
   ]
  },
  {
   "cell_type": "code",
   "execution_count": 8,
   "id": "10a566f9-4c8e-4199-a394-f52baaceac4d",
   "metadata": {
    "height": 30
   },
   "outputs": [],
   "source": [
    "await vectorstore.addDocuments(splitDocs);"
   ]
  },
  {
   "cell_type": "code",
   "execution_count": 9,
   "id": "6da99c5b-08d1-4f6c-a4dd-aed004b6e023",
   "metadata": {
    "height": 166
   },
   "outputs": [
    {
     "data": {
      "text/plain": [
       "[\n",
       "  \u001b[32m\"piece of research in machine learning, okay?\"\u001b[39m,\n",
       "  \u001b[32m\"are using a learning algorithm, perhaps without even being aware of it.\"\u001b[39m,\n",
       "  \u001b[32m\"some of my own excitement about machine learning to you.\"\u001b[39m,\n",
       "  \u001b[32m\"of the class, and then we'll start to talk a bit about machine learning.\"\u001b[39m\n",
       "]"
      ]
     },
     "execution_count": 9,
     "metadata": {},
     "output_type": "execute_result"
    }
   ],
   "source": [
    "const retrievedDocs = await vectorstore.similaritySearch(\n",
    "    \"What is deep learning?\", \n",
    "    4\n",
    ");\n",
    "\n",
    "const pageContents = retrievedDocs.map(doc => doc.pageContent);\n",
    "\n",
    "pageContents"
   ]
  },
  {
   "cell_type": "markdown",
   "id": "e64cc739-abaf-4e8a-a142-b4cd77abab40",
   "metadata": {},
   "source": [
    "# Retrievers"
   ]
  },
  {
   "cell_type": "code",
   "execution_count": 10,
   "id": "f5e32044-6e84-470a-91a7-262918d5a22b",
   "metadata": {
    "height": 30
   },
   "outputs": [],
   "source": [
    "const retriever = vectorstore.asRetriever();"
   ]
  },
  {
   "cell_type": "code",
   "execution_count": 11,
   "id": "0d678f1d-c37c-462f-96ba-d1c84ab35482",
   "metadata": {
    "height": 47
   },
   "outputs": [
    {
     "data": {
      "text/plain": [
       "[\n",
       "  Document {\n",
       "    pageContent: \u001b[32m\"piece of research in machine learning, okay?\"\u001b[39m,\n",
       "    metadata: {\n",
       "      source: \u001b[32m\"./data/MachineLearning-Lecture01.pdf\"\u001b[39m,\n",
       "      pdf: {\n",
       "        version: \u001b[32m\"1.10.100\"\u001b[39m,\n",
       "        info: {\n",
       "          PDFFormatVersion: \u001b[32m\"1.4\"\u001b[39m,\n",
       "          IsAcroFormPresent: \u001b[33mfalse\u001b[39m,\n",
       "          IsXFAPresent: \u001b[33mfalse\u001b[39m,\n",
       "          Title: \u001b[32m\"\"\u001b[39m,\n",
       "          Author: \u001b[32m\"\"\u001b[39m,\n",
       "          Creator: \u001b[32m\"PScript5.dll Version 5.2.2\"\u001b[39m,\n",
       "          Producer: \u001b[32m\"Acrobat Distiller 8.1.0 (Windows)\"\u001b[39m,\n",
       "          CreationDate: \u001b[32m\"D:20080711112523-07'00'\"\u001b[39m,\n",
       "          ModDate: \u001b[32m\"D:20080711112523-07'00'\"\u001b[39m\n",
       "        },\n",
       "        metadata: Metadata { _metadata: \u001b[36m[Object: null prototype]\u001b[39m },\n",
       "        totalPages: \u001b[33m22\u001b[39m\n",
       "      },\n",
       "      loc: { pageNumber: \u001b[33m8\u001b[39m, lines: { from: \u001b[33m2\u001b[39m, to: \u001b[33m2\u001b[39m } }\n",
       "    }\n",
       "  },\n",
       "  Document {\n",
       "    pageContent: \u001b[32m\"are using a learning algorithm, perhaps without even being aware of it.\"\u001b[39m,\n",
       "    metadata: {\n",
       "      source: \u001b[32m\"./data/MachineLearning-Lecture01.pdf\"\u001b[39m,\n",
       "      pdf: {\n",
       "        version: \u001b[32m\"1.10.100\"\u001b[39m,\n",
       "        info: {\n",
       "          PDFFormatVersion: \u001b[32m\"1.4\"\u001b[39m,\n",
       "          IsAcroFormPresent: \u001b[33mfalse\u001b[39m,\n",
       "          IsXFAPresent: \u001b[33mfalse\u001b[39m,\n",
       "          Title: \u001b[32m\"\"\u001b[39m,\n",
       "          Author: \u001b[32m\"\"\u001b[39m,\n",
       "          Creator: \u001b[32m\"PScript5.dll Version 5.2.2\"\u001b[39m,\n",
       "          Producer: \u001b[32m\"Acrobat Distiller 8.1.0 (Windows)\"\u001b[39m,\n",
       "          CreationDate: \u001b[32m\"D:20080711112523-07'00'\"\u001b[39m,\n",
       "          ModDate: \u001b[32m\"D:20080711112523-07'00'\"\u001b[39m\n",
       "        },\n",
       "        metadata: Metadata { _metadata: \u001b[36m[Object: null prototype]\u001b[39m },\n",
       "        totalPages: \u001b[33m22\u001b[39m\n",
       "      },\n",
       "      loc: { pageNumber: \u001b[33m3\u001b[39m, lines: { from: \u001b[33m39\u001b[39m, to: \u001b[33m39\u001b[39m } }\n",
       "    }\n",
       "  },\n",
       "  Document {\n",
       "    pageContent: \u001b[32m\"some of my own excitement about machine learning to you.\"\u001b[39m,\n",
       "    metadata: {\n",
       "      source: \u001b[32m\"./data/MachineLearning-Lecture01.pdf\"\u001b[39m,\n",
       "      pdf: {\n",
       "        version: \u001b[32m\"1.10.100\"\u001b[39m,\n",
       "        info: {\n",
       "          PDFFormatVersion: \u001b[32m\"1.4\"\u001b[39m,\n",
       "          IsAcroFormPresent: \u001b[33mfalse\u001b[39m,\n",
       "          IsXFAPresent: \u001b[33mfalse\u001b[39m,\n",
       "          Title: \u001b[32m\"\"\u001b[39m,\n",
       "          Author: \u001b[32m\"\"\u001b[39m,\n",
       "          Creator: \u001b[32m\"PScript5.dll Version 5.2.2\"\u001b[39m,\n",
       "          Producer: \u001b[32m\"Acrobat Distiller 8.1.0 (Windows)\"\u001b[39m,\n",
       "          CreationDate: \u001b[32m\"D:20080711112523-07'00'\"\u001b[39m,\n",
       "          ModDate: \u001b[32m\"D:20080711112523-07'00'\"\u001b[39m\n",
       "        },\n",
       "        metadata: Metadata { _metadata: \u001b[36m[Object: null prototype]\u001b[39m },\n",
       "        totalPages: \u001b[33m22\u001b[39m\n",
       "      },\n",
       "      loc: { pageNumber: \u001b[33m4\u001b[39m, lines: { from: \u001b[33m24\u001b[39m, to: \u001b[33m24\u001b[39m } }\n",
       "    }\n",
       "  },\n",
       "  Document {\n",
       "    pageContent: \u001b[32m\"of the class, and then we'll start to talk a bit about machine learning.\"\u001b[39m,\n",
       "    metadata: {\n",
       "      source: \u001b[32m\"./data/MachineLearning-Lecture01.pdf\"\u001b[39m,\n",
       "      pdf: {\n",
       "        version: \u001b[32m\"1.10.100\"\u001b[39m,\n",
       "        info: {\n",
       "          PDFFormatVersion: \u001b[32m\"1.4\"\u001b[39m,\n",
       "          IsAcroFormPresent: \u001b[33mfalse\u001b[39m,\n",
       "          IsXFAPresent: \u001b[33mfalse\u001b[39m,\n",
       "          Title: \u001b[32m\"\"\u001b[39m,\n",
       "          Author: \u001b[32m\"\"\u001b[39m,\n",
       "          Creator: \u001b[32m\"PScript5.dll Version 5.2.2\"\u001b[39m,\n",
       "          Producer: \u001b[32m\"Acrobat Distiller 8.1.0 (Windows)\"\u001b[39m,\n",
       "          CreationDate: \u001b[32m\"D:20080711112523-07'00'\"\u001b[39m,\n",
       "          ModDate: \u001b[32m\"D:20080711112523-07'00'\"\u001b[39m\n",
       "        },\n",
       "        metadata: Metadata { _metadata: \u001b[36m[Object: null prototype]\u001b[39m },\n",
       "        totalPages: \u001b[33m22\u001b[39m\n",
       "      },\n",
       "      loc: { pageNumber: \u001b[33m1\u001b[39m, lines: { from: \u001b[33m4\u001b[39m, to: \u001b[33m4\u001b[39m } }\n",
       "    }\n",
       "  }\n",
       "]"
      ]
     },
     "execution_count": 11,
     "metadata": {},
     "output_type": "execute_result"
    }
   ],
   "source": [
    "await retriever.invoke(\"What is deep learning?\")"
   ]
  },
  {
   "cell_type": "code",
   "execution_count": null,
   "id": "18f6254b-5eaf-4867-999b-97d08f96cee9",
   "metadata": {
    "height": 30
   },
   "outputs": [],
   "source": []
  },
  {
   "cell_type": "code",
   "execution_count": null,
   "id": "c326a7cc-d9be-432c-be10-7846d2b8e5e9",
   "metadata": {
    "height": 30
   },
   "outputs": [],
   "source": []
  },
  {
   "cell_type": "code",
   "execution_count": null,
   "id": "8b25e21c-28d0-4329-852e-b96a14c38529",
   "metadata": {
    "height": 30
   },
   "outputs": [],
   "source": []
  },
  {
   "cell_type": "code",
   "execution_count": null,
   "id": "520b4a9b-89de-4652-b238-b7dddbd5a2c2",
   "metadata": {
    "height": 30
   },
   "outputs": [],
   "source": []
  },
  {
   "cell_type": "code",
   "execution_count": null,
   "id": "c325c8b5-9292-41f2-ad10-3ad0ad3df182",
   "metadata": {
    "height": 30
   },
   "outputs": [],
   "source": []
  },
  {
   "cell_type": "code",
   "execution_count": null,
   "id": "f5fe1d4c-9075-47d4-8451-b9bbc1115668",
   "metadata": {
    "height": 30
   },
   "outputs": [],
   "source": []
  },
  {
   "cell_type": "code",
   "execution_count": null,
   "id": "9cb3853d-826c-4e1f-a413-9f9f0faf62fe",
   "metadata": {
    "height": 30
   },
   "outputs": [],
   "source": []
  },
  {
   "cell_type": "code",
   "execution_count": null,
   "id": "3dd60bd2-fcc1-4f96-8763-969e30d52c13",
   "metadata": {
    "height": 30
   },
   "outputs": [],
   "source": []
  },
  {
   "cell_type": "code",
   "execution_count": null,
   "id": "c8f81c9f-88d7-470a-b597-c4137c9d35a4",
   "metadata": {
    "height": 30
   },
   "outputs": [],
   "source": []
  },
  {
   "cell_type": "code",
   "execution_count": null,
   "id": "c3b2e1ba-0419-4276-bdb4-3b044b3a7f46",
   "metadata": {
    "height": 30
   },
   "outputs": [],
   "source": []
  },
  {
   "cell_type": "code",
   "execution_count": null,
   "id": "24bc88b0-851c-4304-a085-ac0cba9f615f",
   "metadata": {
    "height": 30
   },
   "outputs": [],
   "source": []
  },
  {
   "cell_type": "code",
   "execution_count": null,
   "id": "f35a5209-e820-496b-9abc-60ade9f22d7c",
   "metadata": {
    "height": 30
   },
   "outputs": [],
   "source": []
  }
 ],
 "metadata": {
  "kernelspec": {
   "display_name": "Deno",
   "language": "typescript",
   "name": "deno"
  },
  "language_info": {
   "file_extension": ".ts",
   "mimetype": "text/x.typescript",
   "name": "typescript",
   "nb_converter": "script",
   "pygments_lexer": "typescript",
   "version": "5.3.3"
  }
 },
 "nbformat": 4,
 "nbformat_minor": 5
}
